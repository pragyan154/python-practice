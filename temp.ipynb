{
 "cells": [
  {
   "cell_type": "code",
   "execution_count": 2,
   "metadata": {},
   "outputs": [
    {
     "name": "stdout",
     "output_type": "stream",
     "text": [
      "10\n"
     ]
    }
   ],
   "source": [
    "print(10)\n"
   ]
  },
  {
   "cell_type": "code",
   "execution_count": 5,
   "metadata": {},
   "outputs": [
    {
     "name": "stdout",
     "output_type": "stream",
     "text": [
      "hey there, see\n",
      "i jumped\n",
      "hey in again \"jumped\" from up\n"
     ]
    }
   ],
   "source": [
    "t = \"\"\"hey there, see\n",
    "i jumped\"\"\"\n",
    "\n",
    "k = \"hey in again \\\"jumped\\\" from up\"\n",
    "\n",
    "print(t)\n",
    "print(k)"
   ]
  },
  {
   "cell_type": "code",
   "execution_count": 8,
   "metadata": {},
   "outputs": [
    {
     "name": "stdout",
     "output_type": "stream",
     "text": [
      "0.008123159408569336\n"
     ]
    }
   ],
   "source": [
    "\n",
    "import sys\n",
    "import time\n",
    "my_list= ['aaaaa' for i in range(100000)]\n",
    "my_list.append(\"bbbbbb\")\n",
    "my_list\n",
    "start_time = time.time()\n",
    "for s in my_list:\n",
    "    if s == 'bbbbb':\n",
    "        print(\"found without interning\")\n",
    "        break\n",
    "end_time=time.time()\n",
    "print(end_time-start_time)"
   ]
  },
  {
   "cell_type": "code",
   "execution_count": 11,
   "metadata": {},
   "outputs": [
    {
     "name": "stdout",
     "output_type": "stream",
     "text": [
      "found\n",
      "0.0005209445953369141\n"
     ]
    }
   ],
   "source": [
    "my_list_inetrned =[sys.intern('aaaaaa') for i in range(100)]\n",
    "my_list_inetrned.append(sys.intern(\"bbbbb\"))\n",
    "needed_str=sys.intern(\"bbbbb\")\n",
    "start_time =time.time()\n",
    "for s in my_list_inetrned:\n",
    "    if s in needed_str:\n",
    "        print(\"found\")\n",
    "        break\n",
    "end_time=time.time()\n",
    "print(end_time-start_time)"
   ]
  },
  {
   "cell_type": "code",
   "execution_count": 17,
   "metadata": {},
   "outputs": [
    {
     "name": "stdout",
     "output_type": "stream",
     "text": [
      "Number of vowels: 3\n",
      "Positive numbers: [1, 3, 5, 7, 9]\n",
      "Negative numbers: [-2, -4, -6, -8, -10]\n",
      "17 is a prime number.\n",
      "Word Count: {'word': 2, 'is': 1, 'repeating': 1, 'like': 2, 'this': 1, 'comes': 2, '2': 2, 'times': 2, 'will': 1}\n"
     ]
    }
   ],
   "source": [
    "#counting vowels\n",
    "word = \"Hello, World!\"\n",
    "vowels = \"aeiouAEIOU\"\n",
    "count = 0\n",
    "\n",
    "for char in word:\n",
    "    if char in vowels:\n",
    "        count += 1\n",
    "\n",
    "print(\"Number of vowels:\", count)\n",
    "\n",
    "#positive and negativr numbers\n",
    "numbers = [1, -2, 3, -4, 5, -6, 7, -8, 9, -10]\n",
    "positive_numbers = []\n",
    "negative_numbers = []\n",
    "\n",
    "for num in numbers:\n",
    "    if num >= 0:\n",
    "        positive_numbers.append(num)\n",
    "    else:\n",
    "        negative_numbers.append(num)\n",
    "\n",
    "print(\"Positive numbers:\", positive_numbers)\n",
    "print(\"Negative numbers:\", negative_numbers)\n",
    "\n",
    "#check if prime or not\n",
    "number = 17\n",
    "is_prime = True\n",
    "\n",
    "if number <= 1:\n",
    "    is_prime = False\n",
    "else:\n",
    "    for i in range(2, int(number ** 0.5) + 1):\n",
    "        if number % i == 0:\n",
    "            is_prime = False\n",
    "            break\n",
    "\n",
    "if is_prime:\n",
    "    print(number, \"is a prime number.\")\n",
    "else:\n",
    "    print(number, \"is not a prime number.\")\n",
    "\n",
    "# words counts\n",
    "sentence = \"word is repeating like like this comes 2 times word will comes 2 times\"\n",
    "word_list = sentence.split()\n",
    "word_count = {}\n",
    "\n",
    "for word in word_list:\n",
    "    if word in word_count:\n",
    "        word_count[word] += 1\n",
    "    else:\n",
    "        word_count[word] = 1\n",
    "\n",
    "print(\"Word Count:\", word_count)\n",
    "\n"
   ]
  },
  {
   "cell_type": "code",
   "execution_count": 20,
   "metadata": {},
   "outputs": [
    {
     "name": "stdout",
     "output_type": "stream",
     "text": [
      "Grade Groups: {85: ['gokuu'], 92: ['vegeta', 'goten'], 78: ['gohan', 'picolo']}\n"
     ]
    }
   ],
   "source": [
    "#grouping students by their grades\n",
    "\n",
    "students = [(\"gokuu\", 85), (\"vegeta\", 92), (\"gohan\", 78), (\"goten\", 92), (\"picolo\", 78)]\n",
    "grade_groups = {}\n",
    "\n",
    "for student, grade in students:\n",
    "    if grade in grade_groups:\n",
    "        grade_groups[grade].append(student)\n",
    "    else:\n",
    "        grade_groups[grade] = [student]\n",
    "\n",
    "print(\"Grade Groups:\", grade_groups)\n"
   ]
  },
  {
   "cell_type": "code",
   "execution_count": 25,
   "metadata": {},
   "outputs": [
    {
     "name": "stdout",
     "output_type": "stream",
     "text": [
      "Interned String Execution Time: 9.703636169433594e-05\n",
      "Normal String Execution Time: 0.1928720474243164\n"
     ]
    }
   ],
   "source": [
    "import sys\n",
    "import timeit\n",
    "\n",
    "# Function to compare interned and normal strings\n",
    "def compare_strings(interned_str, normal_str):\n",
    "    return interned_str == normal_str\n",
    "\n",
    "# Test strings\n",
    "interned_string = sys.intern(\"Hello, World!\")\n",
    "normal_string = \"Hello, World!\"\n",
    "\n",
    "# Measure the execution speed\n",
    "start_time =time.time()\n",
    "interned_execution_time = compare_strings(interned_string,interned_string)\n",
    "end_time=time.time()\n",
    "print(\"Interned String Execution Time:\", end_time-start_time)\n",
    "start_time =time.time()\n",
    "normal_execution_time = timeit.timeit(lambda: compare_strings(normal_string, normal_string), number=1000000)\n",
    "end_time=time.time()\n",
    "print(\"Normal String Execution Time:\", end_time-start_time)\n"
   ]
  },
  {
   "cell_type": "code",
   "execution_count": 28,
   "metadata": {},
   "outputs": [
    {
     "name": "stdout",
     "output_type": "stream",
     "text": [
      "Student itika got 30\n"
     ]
    }
   ],
   "source": [
    "student_first_name=\"itika\"\n",
    "student_last_name=\"angola\"\n",
    "record = {\"itika\":30,\"mika\":24,\"michael\":94}\n",
    "def getMarks(student_fn):\n",
    "    return record[student_fn]\n",
    "print(f\"Student {student_first_name} got {getMarks(student_first_name)}\")\n",
    "\n",
    "\n"
   ]
  },
  {
   "cell_type": "code",
   "execution_count": 1,
   "metadata": {},
   "outputs": [
    {
     "name": "stdout",
     "output_type": "stream",
     "text": [
      "{'itika': 30, 'mika': 24, 'michael': 94}\n"
     ]
    }
   ],
   "source": [
    "l = {\"itika\":30,\"mika\":24,\"michael\":94}\n",
    "l = l\n",
    "print(l)"
   ]
  },
  {
   "cell_type": "code",
   "execution_count": null,
   "metadata": {},
   "outputs": [],
   "source": []
  }
 ],
 "metadata": {
  "kernelspec": {
   "display_name": "Python 3",
   "language": "python",
   "name": "python3"
  },
  "language_info": {
   "codemirror_mode": {
    "name": "ipython",
    "version": 3
   },
   "file_extension": ".py",
   "mimetype": "text/x-python",
   "name": "python",
   "nbconvert_exporter": "python",
   "pygments_lexer": "ipython3",
   "version": "3.9.0"
  },
  "orig_nbformat": 4
 },
 "nbformat": 4,
 "nbformat_minor": 2
}
