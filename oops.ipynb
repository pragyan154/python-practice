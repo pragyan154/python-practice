{
 "cells": [
  {
   "cell_type": "code",
   "execution_count": 1,
   "metadata": {},
   "outputs": [
    {
     "name": "stdout",
     "output_type": "stream",
     "text": [
      "the dog barcks\n",
      "The cat says meow\n"
     ]
    }
   ],
   "source": [
    "#polymorphism\n",
    "class Animal:\n",
    "    def sound(self):\n",
    "        print(\"the animal makes the sound\")\n",
    "\n",
    "class Dog(Animal):\n",
    "    def sound(self):\n",
    "        print(\"the dog barcks\")\n",
    "\n",
    "class Cat(Animal):\n",
    "    def sound(Animal):\n",
    "        print(\"The cat says meow\")\n",
    "animals = [Dog(),Cat()]\n",
    "\n",
    "\n",
    "for animal in animals:\n",
    "    animal.sound()"
   ]
  },
  {
   "cell_type": "code",
   "execution_count": 5,
   "metadata": {},
   "outputs": [
    {
     "name": "stdout",
     "output_type": "stream",
     "text": [
      "b foo\n"
     ]
    }
   ],
   "source": [
    "#MRO is followed  example- \n",
    "class A:\n",
    "    def foo(self):\n",
    "        print(\"a foo\")\n",
    "\n",
    "class B(A):\n",
    "    def foo(self):\n",
    "        print(\"b foo\")\n",
    "\n",
    "class C(A):\n",
    "    def foo(self):\n",
    "        print(\"c foo\")\n",
    "\n",
    "class D(B,C):\n",
    "    pass\n",
    "d = D()\n",
    "d.foo()"
   ]
  },
  {
   "cell_type": "code",
   "execution_count": 9,
   "metadata": {},
   "outputs": [
    {
     "name": "stdout",
     "output_type": "stream",
     "text": [
      "2\n",
      "6\n"
     ]
    }
   ],
   "source": [
    "#method overloading , method with same name and different parameters\n",
    "class opreation:\n",
    "    def add(self, x, y=None, z=None):\n",
    "        if y is not None and z is not None:\n",
    "            return x + y + z\n",
    "        elif z is not None:\n",
    "            return x + z\n",
    "        else:\n",
    "            return x\n",
    "        \n",
    "c = opreation()\n",
    "print(c.add(2))\n",
    "print(c.add(2,2,2))"
   ]
  },
  {
   "cell_type": "code",
   "execution_count": 21,
   "metadata": {},
   "outputs": [
    {
     "name": "stdout",
     "output_type": "stream",
     "text": [
      "15\n",
      "16\n"
     ]
    }
   ],
   "source": [
    "class Rectangle:\n",
    "    def __init__(self, length, width):\n",
    "        self.length = length\n",
    "        self.width = width\n",
    "\n",
    "    def area(self):\n",
    "        return self.length * self.width\n",
    "\n",
    "\n",
    "class Square(Rectangle):\n",
    "    def __init__(self, side):\n",
    "        super().__init__(side, side)\n",
    "\n",
    "    def area(self):\n",
    "        return self.length ** 2\n",
    "\n",
    "\n",
    "\n",
    "rectangle = Rectangle(5, 3)\n",
    "square = Square(4)\n",
    "\n",
    "\n",
    "print(rectangle.area())\n",
    "print(square.area())\n",
    "\n"
   ]
  },
  {
   "cell_type": "code",
   "execution_count": 23,
   "metadata": {},
   "outputs": [
    {
     "name": "stdout",
     "output_type": "stream",
     "text": [
      "Collecting multipledispatch\n",
      "  Downloading multipledispatch-0.6.0-py3-none-any.whl (11 kB)\n",
      "Requirement already satisfied: six in /Library/Frameworks/Python.framework/Versions/3.9/lib/python3.9/site-packages (from multipledispatch) (1.15.0)\n",
      "Installing collected packages: multipledispatch\n",
      "Successfully installed multipledispatch-0.6.0\n",
      "\n",
      "\u001b[1m[\u001b[0m\u001b[34;49mnotice\u001b[0m\u001b[1;39;49m]\u001b[0m\u001b[39;49m A new release of pip is available: \u001b[0m\u001b[31;49m23.0.1\u001b[0m\u001b[39;49m -> \u001b[0m\u001b[32;49m23.1.2\u001b[0m\n",
      "\u001b[1m[\u001b[0m\u001b[34;49mnotice\u001b[0m\u001b[1;39;49m]\u001b[0m\u001b[39;49m To update, run: \u001b[0m\u001b[32;49mpip3.9 install --upgrade pip\u001b[0m\n",
      "Note: you may need to restart the kernel to use updated packages.\n"
     ]
    }
   ],
   "source": [
    "pip install multipledispatch"
   ]
  },
  {
   "cell_type": "code",
   "execution_count": 25,
   "metadata": {},
   "outputs": [
    {
     "name": "stdout",
     "output_type": "stream",
     "text": [
      "8\n",
      "None\n"
     ]
    }
   ],
   "source": [
    "from multipledispatch import dispatch\n",
    "\n",
    "class Demo:\n",
    "    @dispatch(int, int)\n",
    "    def product(a,b):\n",
    "        p = a*b \n",
    "        print(p)\n",
    "\n",
    "\n",
    "    @dispatch(int, int, int)\n",
    "    def product(a,b,x):\n",
    "        p = a*b*x\n",
    "        print(p)\n",
    "\n",
    "    \n",
    "d = Demo()\n",
    "print(d.product(2,2,2))\n"
   ]
  },
  {
   "cell_type": "code",
   "execution_count": 29,
   "metadata": {},
   "outputs": [
    {
     "name": "stdout",
     "output_type": "stream",
     "text": [
      "goku\n",
      "False\n",
      "False\n"
     ]
    }
   ],
   "source": [
    "from dataclasses import dataclass\n",
    "from typing import List\n",
    "@dataclass(order=True)\n",
    "class temp:\n",
    "    name:str\n",
    "    age:int\n",
    "    things : List[str]=None\n",
    "\n",
    "p1 = temp(\"goku\", 1000,[\"sasa\",\"sasasa\"])\n",
    "p2 = temp(\"vegeta\", 900,[\"kameha\"])\n",
    "print(p1.name)\n",
    "print(p1.age < p2.age)\n",
    "print(p1 == p2)\n"
   ]
  },
  {
   "cell_type": "code",
   "execution_count": 31,
   "metadata": {},
   "outputs": [
    {
     "name": "stdout",
     "output_type": "stream",
     "text": [
      "not possible\n"
     ]
    }
   ],
   "source": [
    "try:\n",
    "    x = 10/0\n",
    "except:\n",
    "    print(\"not possible\")"
   ]
  },
  {
   "cell_type": "code",
   "execution_count": 32,
   "metadata": {},
   "outputs": [
    {
     "name": "stdout",
     "output_type": "stream",
     "text": [
      "custom error custom exception\n"
     ]
    }
   ],
   "source": [
    "class customerror(Exception):\n",
    "    pass\n",
    "try:\n",
    "    raise customerror(\"custom exception\")\n",
    "except customerror as e:\n",
    "    print(\"custom error\", str(e))"
   ]
  },
  {
   "cell_type": "code",
   "execution_count": 33,
   "metadata": {},
   "outputs": [],
   "source": [
    "file = open(\"/Users/prakhar.agnihotri/Documents/wiley_python/temp.txt\")"
   ]
  },
  {
   "cell_type": "code",
   "execution_count": 35,
   "metadata": {},
   "outputs": [
    {
     "name": "stdout",
     "output_type": "stream",
     "text": [
      "<_io.TextIOWrapper name='/Users/prakhar.agnihotri/Documents/wiley_python/temp.txt' mode='r' encoding='UTF-8'>\n"
     ]
    }
   ],
   "source": [
    "print(file)"
   ]
  },
  {
   "cell_type": "code",
   "execution_count": 41,
   "metadata": {},
   "outputs": [],
   "source": [
    "try:\n",
    "    with open(\"/Users/prakhar.agnihotri/Documents/wiley_python/temp.txt\",\"w\") as file: # here w defines rewrite data # a for append in file\n",
    "        file.write(\"hello phle m \\n\")\n",
    "except FileNotFoundError:\n",
    "    print(\"file not found\")\n",
    "except IOError:\n",
    "    print(\"Error while reading file\")"
   ]
  },
  {
   "cell_type": "code",
   "execution_count": 42,
   "metadata": {},
   "outputs": [],
   "source": [
    "try:\n",
    "    with open(\"/Users/prakhar.agnihotri/Documents/wiley_python/temp.txt\",\"a\") as file: # here file will append data into thefile , not delete existing data\n",
    "        file.write(\"m baad me aaya\")\n",
    "except FileNotFoundError:\n",
    "    print(\"file not found\")\n",
    "except IOError:\n",
    "    print(\"Error while reading file\")"
   ]
  },
  {
   "cell_type": "code",
   "execution_count": 43,
   "metadata": {},
   "outputs": [
    {
     "name": "stdout",
     "output_type": "stream",
     "text": [
      "hello phle m\n",
      "m baad me aaya\n"
     ]
    }
   ],
   "source": [
    "try:\n",
    "    with open(\"/Users/prakhar.agnihotri/Documents/wiley_python/temp.txt\",\"r\") as file:\n",
    "        for line in file:\n",
    "            print(line.rstrip())\n",
    "\n",
    "except IOError:\n",
    "    print(\"error \")"
   ]
  },
  {
   "cell_type": "code",
   "execution_count": 44,
   "metadata": {},
   "outputs": [
    {
     "name": "stdout",
     "output_type": "stream",
     "text": [
      "123\n",
      "456\n"
     ]
    }
   ],
   "source": [
    "import re\n",
    "\n",
    "# Sample string\n",
    "text = \"Hello 123 World 456!\"\n",
    "\n",
    "# Pattern to match digits\n",
    "pattern = r\"\\d+\"\n",
    "\n",
    "# Find all matches\n",
    "matches = re.findall(pattern, text)\n",
    "\n",
    "# Print the matched digits\n",
    "for match in matches:\n",
    "    print(match)"
   ]
  },
  {
   "cell_type": "code",
   "execution_count": 45,
   "metadata": {},
   "outputs": [
    {
     "name": "stdout",
     "output_type": "stream",
     "text": [
      "Hello\\.\\ How\\ are\\ you\\?\n"
     ]
    }
   ],
   "source": [
    "import re\n",
    "\n",
    "# Example input string with special characters\n",
    "input_string = \"Hello. How are you?\"\n",
    "\n",
    "# Escape special characters using re.escape()\n",
    "escaped_string = re.escape(input_string)\n",
    "\n",
    "print(escaped_string)\n"
   ]
  },
  {
   "cell_type": "code",
   "execution_count": 47,
   "metadata": {},
   "outputs": [
    {
     "name": "stdout",
     "output_type": "stream",
     "text": [
      "Modified string: ('Hellx, Wxrld! Hxw are yxu txday?', 5)\n"
     ]
    }
   ],
   "source": [
    "import re\n",
    "\n",
    "# Example input string\n",
    "input_string = \"Hello, World! How are you today?\"\n",
    "\n",
    "# Perform substitution using re.subn()\n",
    "modified_string = re.subn(\"o\",\"x\", input_string)\n",
    "\n",
    "# Print the modified string and count of substitutions\n",
    "print(\"Modified string:\", modified_string)\n"
   ]
  },
  {
   "cell_type": "code",
   "execution_count": 48,
   "metadata": {},
   "outputs": [],
   "source": [
    "import re\n",
    "\n",
    "# Example input string\n",
    "input_string = \"example of the string ? 1000 days left\"\n",
    "\n",
    "# Pattern to match lowercase letters (a-z)\n",
    "pattern = r\"[a-z]\"\n",
    "\n",
    "# Perform search using re.search()\n",
    "match = re.search(pattern, input_string)\n"
   ]
  },
  {
   "cell_type": "code",
   "execution_count": 89,
   "metadata": {},
   "outputs": [
    {
     "name": "stdout",
     "output_type": "stream",
     "text": [
      "Match found: yupp\n"
     ]
    }
   ],
   "source": [
    "import re\n",
    "\n",
    "# Example input string\n",
    "input_string = \"Hello, World! How are you today? My number is 1221 yupp.\"\n",
    "\n",
    "# Pattern to match alphanumeric characters followed by a digit\n",
    "pattern = r\"([a-zA-Z]+) (\\d+) ([a-z]+)\"\n",
    "\n",
    "# Perform search using re.search()\n",
    "match = re.search(pattern, input_string)\n",
    "if match:\n",
    "    print(\"Match found:\", match.group(0))\n",
    "    print(\"Match found:\", match.group(1))\n",
    "    print(\"Match found:\", match.group(2))\n",
    "    print(\"Match found:\", match.group(3))\n",
    "\n"
   ]
  },
  {
   "cell_type": "code",
   "execution_count": 90,
   "metadata": {},
   "outputs": [
    {
     "name": "stdout",
     "output_type": "stream",
     "text": [
      "['kem palty 24 hota ']\n"
     ]
    }
   ],
   "source": [
    "import re\n",
    "pattern = r\"kem palty \\d+ [a-z]+ \"\n",
    "match = re.findall(pattern , \"yaha waha jaae, kem palty 24 hota h\")\n",
    "print(match)"
   ]
  },
  {
   "cell_type": "code",
   "execution_count": 97,
   "metadata": {},
   "outputs": [
    {
     "name": "stdout",
     "output_type": "stream",
     "text": [
      "['brown', 'munde', 'punajbi']\n"
     ]
    }
   ],
   "source": [
    "import re\n",
    "text = \"brown munde punajbi\"\n",
    "pattern = r\"\\b\\w+\\b\"\n",
    "matches = re.findall(pattern , text)\n",
    "\n",
    "print(matches)"
   ]
  },
  {
   "cell_type": "code",
   "execution_count": 98,
   "metadata": {},
   "outputs": [
    {
     "name": "stdout",
     "output_type": "stream",
     "text": [
      "['brown']\n"
     ]
    }
   ],
   "source": [
    "import re\n",
    "text = \"brown munde punajbi\"\n",
    "pattern = r\"\\bbrown\\b\"\n",
    "matches = re.findall(pattern , text)\n",
    "\n",
    "print(matches)"
   ]
  },
  {
   "cell_type": "code",
   "execution_count": null,
   "metadata": {},
   "outputs": [],
   "source": []
  }
 ],
 "metadata": {
  "kernelspec": {
   "display_name": "Python 3",
   "language": "python",
   "name": "python3"
  },
  "language_info": {
   "codemirror_mode": {
    "name": "ipython",
    "version": 3
   },
   "file_extension": ".py",
   "mimetype": "text/x-python",
   "name": "python",
   "nbconvert_exporter": "python",
   "pygments_lexer": "ipython3",
   "version": "3.9.0"
  },
  "orig_nbformat": 4
 },
 "nbformat": 4,
 "nbformat_minor": 2
}
