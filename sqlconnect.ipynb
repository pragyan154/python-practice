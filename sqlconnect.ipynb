{
 "cells": [
  {
   "cell_type": "code",
   "execution_count": 2,
   "metadata": {},
   "outputs": [
    {
     "name": "stdout",
     "output_type": "stream",
     "text": [
      "Collecting mysql-connector-python\n",
      "  Downloading mysql_connector_python-8.0.33-py2.py3-none-any.whl (390 kB)\n",
      "\u001b[2K     \u001b[90m━━━━━━━━━━━━━━━━━━━━━━━━━━━━━━━━━━━━━━━\u001b[0m \u001b[32m390.1/390.1 kB\u001b[0m \u001b[31m3.0 MB/s\u001b[0m eta \u001b[36m0:00:00\u001b[0m00:01\u001b[0m00:01\u001b[0m\n",
      "\u001b[?25hCollecting protobuf<=3.20.3,>=3.11.0\n",
      "  Downloading protobuf-3.20.3-cp39-cp39-macosx_10_9_x86_64.whl (982 kB)\n",
      "\u001b[2K     \u001b[90m━━━━━━━━━━━━━━━━━━━━━━━━━━━━━━━━━━━━━━\u001b[0m \u001b[32m982.8/982.8 kB\u001b[0m \u001b[31m13.3 MB/s\u001b[0m eta \u001b[36m0:00:00\u001b[0ma \u001b[36m0:00:01\u001b[0m\n",
      "\u001b[?25hInstalling collected packages: protobuf, mysql-connector-python\n",
      "Successfully installed mysql-connector-python-8.0.33 protobuf-3.20.3\n",
      "\n",
      "\u001b[1m[\u001b[0m\u001b[34;49mnotice\u001b[0m\u001b[1;39;49m]\u001b[0m\u001b[39;49m A new release of pip is available: \u001b[0m\u001b[31;49m23.0.1\u001b[0m\u001b[39;49m -> \u001b[0m\u001b[32;49m23.1.2\u001b[0m\n",
      "\u001b[1m[\u001b[0m\u001b[34;49mnotice\u001b[0m\u001b[1;39;49m]\u001b[0m\u001b[39;49m To update, run: \u001b[0m\u001b[32;49mpip3.9 install --upgrade pip\u001b[0m\n",
      "Note: you may need to restart the kernel to use updated packages.\n"
     ]
    }
   ],
   "source": [
    "pip install mysql-connector-python"
   ]
  },
  {
   "cell_type": "code",
   "execution_count": 3,
   "metadata": {},
   "outputs": [
    {
     "name": "stdout",
     "output_type": "stream",
     "text": [
      "table created succesfully\n",
      "('value1', 22)\n",
      "('value2', 99)\n"
     ]
    }
   ],
   "source": [
    "import mysql.connector\n",
    "\n",
    "# Establish a connection to the MySQL server\n",
    "connection = mysql.connector.connect(\n",
    "    host=\"localhost\",\n",
    "    user=\"root\",\n",
    "    password=\"root1234\",\n",
    "    database=\"c361cohort\"\n",
    ")\n",
    "\n",
    "cursor = connection.cursor()\n",
    "create_tablequery = \"\"\"CREATE TABLE IF not exists table_name1( column1 varchar(255), column2 int)\"\"\"\n",
    "\n",
    "cursor.execute(create_tablequery)\n",
    "print(\"table created succesfully\")\n",
    "\n",
    "insert_query = \"insert into table_name1 (column1, column2) values(%s,%s)\"\n",
    "\n",
    "data = [(\"value1\", 22),(\"value2\",99)]\n",
    "cursor.executemany(insert_query,data)\n",
    "\n",
    "connection.commit()\n",
    "\n",
    "selectquery = \"select * from table_name1\"\n",
    "cursor.execute(selectquery)\n",
    "\n",
    "rows = cursor.fetchall()\n",
    "\n",
    "for row in rows:\n",
    "    print(row)\n",
    "\n",
    "cursor.close()\n",
    "connection.close()"
   ]
  },
  {
   "cell_type": "code",
   "execution_count": 3,
   "metadata": {},
   "outputs": [
    {
     "ename": "NameError",
     "evalue": "name 'cursor' is not defined",
     "output_type": "error",
     "traceback": [
      "\u001b[0;31m---------------------------------------------------------------------------\u001b[0m",
      "\u001b[0;31mNameError\u001b[0m                                 Traceback (most recent call last)",
      "Cell \u001b[0;32mIn[3], line 49\u001b[0m\n\u001b[1;32m     46\u001b[0m mydb\u001b[39m.\u001b[39mcommit()\n\u001b[1;32m     48\u001b[0m selectquery \u001b[39m=\u001b[39m \u001b[39m\"\u001b[39m\u001b[39mselect * from products1212\u001b[39m\u001b[39m\"\u001b[39m\n\u001b[0;32m---> 49\u001b[0m cursor\u001b[39m.\u001b[39mexecute(selectquery)\n\u001b[1;32m     51\u001b[0m rows \u001b[39m=\u001b[39m cursor\u001b[39m.\u001b[39mfetchall()\n\u001b[1;32m     53\u001b[0m \u001b[39mfor\u001b[39;00m row \u001b[39min\u001b[39;00m rows:\n",
      "\u001b[0;31mNameError\u001b[0m: name 'cursor' is not defined"
     ]
    }
   ],
   "source": [
    "from flask import Flask\n",
    "import mysql.connector\n",
    "import json\n",
    "\n",
    "app = Flask(__name__)\n",
    "app.config['SECRET_KEY'] = 'fbfbaehfbhaekwfkjebfjk'\n",
    "\n",
    "mydb = mysql.connector.connect(\n",
    "    host=\"localhost\",\n",
    "    user=\"root\",\n",
    "    password=\"root1234\",\n",
    "    database=\"activity\"\n",
    ")\n",
    "\n",
    "mycursor = mydb.cursor()\n",
    "\n",
    "mycursor.execute(\"CREATE TABLE products1212 (id INT AUTO_INCREMENT PRIMARY KEY, name VARCHAR(255), price FLOAT)\")\n",
    "mycursor.execute(\"CREATE TABLE cart1212 (id INT AUTO_INCREMENT PRIMARY KEY, product_id INT, quantity INT)\")\n",
    "mycursor.execute(\"CREATE TABLE orders1212 (id INT AUTO_INCREMENT PRIMARY KEY, product_id INT, quantity INT, customer_name VARCHAR(255))\")\n",
    "\n",
    "product_data = [\n",
    "    (\"Shirt\", 20),\n",
    "    (\"Pants\", 30),\n",
    "    (\"Dress\", 39)\n",
    "]\n",
    "\n",
    "cart_data = [\n",
    "    (1, 2),\n",
    "    (2, 1)\n",
    "]\n",
    "\n",
    "order_data = [\n",
    "    (1, 2, \"rohan\"),\n",
    "    (2, 1, \"goku\")\n",
    "]\n",
    "\n",
    "insert_products = \"INSERT INTO products1212 (name, price) VALUES (%s, %s)\"\n",
    "mycursor.executemany(insert_products, product_data)\n",
    "\n",
    "insert_cart = \"INSERT INTO cart1212 (product_id, quantity) VALUES (%s, %s)\"\n",
    "mycursor.executemany(insert_cart, cart_data)\n",
    "\n",
    "insert_orders = \"INSERT INTO orders1212 (product_id, quantity, customer_name) VALUES (%s, %s, %s)\"\n",
    "mycursor.executemany(insert_orders, order_data)\n",
    "\n"
   ]
  },
  {
   "cell_type": "code",
   "execution_count": 5,
   "metadata": {},
   "outputs": [
    {
     "name": "stdout",
     "output_type": "stream",
     "text": [
      "(1, 'Shirt', 20.0)\n",
      "(2, 'Pants', 30.0)\n",
      "(3, 'Dress', 39.0)\n"
     ]
    }
   ],
   "source": [
    "mydb.commit()\n",
    "\n",
    "selectquery = \"select * from products1212\"\n",
    "mycursor.execute(selectquery)\n",
    "\n",
    "rows = mycursor.fetchall()\n",
    "\n",
    "for row in rows:\n",
    "    print(row)"
   ]
  },
  {
   "cell_type": "code",
   "execution_count": null,
   "metadata": {},
   "outputs": [],
   "source": []
  }
 ],
 "metadata": {
  "kernelspec": {
   "display_name": "Python 3",
   "language": "python",
   "name": "python3"
  },
  "language_info": {
   "codemirror_mode": {
    "name": "ipython",
    "version": 3
   },
   "file_extension": ".py",
   "mimetype": "text/x-python",
   "name": "python",
   "nbconvert_exporter": "python",
   "pygments_lexer": "ipython3",
   "version": "3.9.0"
  },
  "orig_nbformat": 4
 },
 "nbformat": 4,
 "nbformat_minor": 2
}
